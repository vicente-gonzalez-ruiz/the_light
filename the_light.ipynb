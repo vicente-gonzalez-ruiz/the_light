{
 "cells": [
  {
   "cell_type": "markdown",
   "metadata": {},
   "source": [
    "# The light"
   ]
  },
  {
   "cell_type": "markdown",
   "metadata": {},
   "source": [
    "## The light waves\n",
    "* Light is an electromagnetic (affects the electrical and electromagnetic field) transversal (which means that the energy disturbance caused in the medium has a direction perpendicular to the direction of propagation) wave.\n",
    "\n",
    "<img src=\"https://upload.wikimedia.org/wikipedia/commons/thumb/3/35/Onde_electromagnetique.svg/1000px-Onde_electromagnetique.svg.png\" width=\"800\">"
   ]
  },
  {
   "cell_type": "markdown",
   "metadata": {},
   "source": [
    "## Temporal representation of sound\n",
    "* Sound waves can be represented by measuring the particles displacement from its equilibrium over time using a graph such as:\n",
    "\n",
    "<img src=\"https://upload.wikimedia.org/wikipedia/commons/thumb/5/50/Signal_Sampling.png/800px-Signal_Sampling.png\" width=\"400\">\n",
    "\n",
    "* Light propagates in translucent bodies and in a vacuum. In any case, its propagation speed depends on the electromagnetic permeability of the medium.\n",
    "\n",
    "<img src=\"https://upload.wikimedia.org/wikipedia/commons/7/73/Light_dispersion_conceptual_waves350px.gif\">"
   ]
  },
  {
   "cell_type": "markdown",
   "metadata": {},
   "source": [
    "## Frequency representation of sound\n",
    "* Because the periodic nature of the sound waves, we can also represent the basis of the frequency components (pure sinusoidal signals), that compose them. This is done using Fourier Analysis. The result is a graph of the type:\n",
    "\n",
    "<img src=\"https://upload.wikimedia.org/wikipedia/commons/0/08/Fourier_Transform_of_bass_guitar_time_signal.png\" width=\"400\">\n",
    "\n",
    "* Musical notes are produced by vibrating elements to certain\n",
    "  frequencies. By definition, the spectrum of a musical note accumulates most of its\n",
    "  energy (different from zero) in the frequencies:\n",
    "  $$                                                                                                                                                                                                               \n",
    "    x, 2x, 3x, \\cdots                                                                                                                                                                                                               \n",
    "  $$\n",
    "  where $x$ is the fundamental frequency of the note (which indicates\n",
    "  which note is) and $2x, 3x, \\cdots$ is the *pitch of the note* (which\n",
    "  amplitudes depend on the musical instrument that has produced the\n",
    "  notes)."
   ]
  },
  {
   "cell_type": "markdown",
   "metadata": {},
   "source": [
    "## A classification of the sound waves\n",
    "* Depending of the compositing frecuencies, se talk about:\n",
    "    1. Infrasounds: those sounds with a frequency smaller than $20$ Hz (not perceptible by humans).\n",
    "    2. Audible sounds: between $20$ and $20{.}000$ Hz.\n",
    "    3. Ultrasounds: over $20{.}000$ Hz. Also unnoticeable.\n",
    "* These frequency ranges vary between individuals. These values are average values."
   ]
  },
  {
   "cell_type": "markdown",
   "metadata": {},
   "source": [
    "## Intensity of sound waves\n",
    "* Sound intensity depends on the amplitude of the particle oscillations, which cause pressure variations in the eardrum}. This way we perceive sound.\n",
    "* The most common way to express a sound intensity $I$ is relatively respect to the intensity needed to reach the threshold of hearing, which by definition is $20\\mu~\\text {P}$ of pressure ($1$ Pascal = $1$ Newton/m$^2$). In this case, the relative loudness or relative SPL (Sound Pressure Level) is expressed as:\n",
    "  $$                                                                                                                                                                                            \n",
    "    \\text{SPL} = \\frac{I}{20\\mu~\\text{Pa}}                                                                                                                                                                                          \n",
    "  $$\n",
    "* The human auditory system reacts logarithmically to sound intensity. Therefore, we generally express this physical measure in decibels (dB). In this case:\n",
    "  $$                                                                                                                                                                                                               \n",
    "    \\text{SPL}[\\text{dB}] = 20\\log\\frac{I}{20\\mu~\\text{Pa}}                                                                                                                                                                         \n",
    "  $$\n",
    "* The following table shows some examples with typical sound intensities expressed in dB's. Also it has been added a column to have an idea of the absolute measure of the real intensity $I$.\n",
    "\n",
    "| Context            | $\\text{SPL}[\\text{dB}]$ | Intensity of sound $I$           |\n",
    "|--------------------|-------------------------|----------------------------------|\n",
    "| Auditory threshold |                  $0$ dB | $20\\mu~\\text{Pa}$                |\n",
    "| Whisper            |                 $20$ dB | $10\\times 20\\mu~\\text{Pa}$       |\n",
    "| Conversation       |                 $40$ dB | $100\\times 20\\mu~\\text{Pa}$      |\n",
    "| Traffic            |                 $60$ dB | $1{.}000\\times 20\\mu~\\text{Pa}$  |\n",
    "| Subway             |                 $80$ dB | $10{.}000\\times 20\\mu~\\text{Pa}$ |\n",
    "| Threshold of Pain  |                $140$ dB | $10^{7}\\times 20\\mu~\\text{Pa}$   |\n",
    "| Jet Engine         |                $160$ dB | $10^{8}\\times 20\\mu~\\text{Pa}$   |\n",
    "\n",
    "* The human ear is able to work properly between $20\\mu~\\text{Pa}$ ($0$ dB) and $100\\mu~\\text{Pa}$ ($114$ dB), approximately."
   ]
  }
 ],
 "metadata": {
  "kernelspec": {
   "display_name": "Python 3",
   "language": "python",
   "name": "python3"
  },
  "language_info": {
   "codemirror_mode": {
    "name": "ipython",
    "version": 3
   },
   "file_extension": ".py",
   "mimetype": "text/x-python",
   "name": "python",
   "nbconvert_exporter": "python",
   "pygments_lexer": "ipython3",
   "version": "3.6.3"
  }
 },
 "nbformat": 4,
 "nbformat_minor": 2
}
