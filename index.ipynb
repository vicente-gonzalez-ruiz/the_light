{
 "cells": [
  {
   "cell_type": "markdown",
   "metadata": {},
   "source": [
    "# The light"
   ]
  },
  {
   "cell_type": "markdown",
   "metadata": {},
   "source": [
    "## The light waves\n",
    "* Light is an electromagnetic (affects the electrical and electromagnetic field) transversal (which means that the energy disturbance caused in the medium has a direction perpendicular to the direction of propagation) wave.\n",
    "\n",
    "<img src=\"https://upload.wikimedia.org/wikipedia/commons/thumb/3/35/Onde_electromagnetique.svg/1000px-Onde_electromagnetique.svg.png\" width=\"800\">\n",
    "\n",
    "* Light propagates in translucent bodies and in a vacuum. In any case, its propagation speed depends on the electromagnetic permeability of the medium.\n",
    "\n",
    "<img src=\"https://upload.wikimedia.org/wikipedia/commons/7/73/Light_dispersion_conceptual_waves350px.gif\">"
   ]
  },
  {
   "cell_type": "markdown",
   "metadata": {},
   "source": [
    "## Eletromagnetic spectrum\n",
    "\n",
    "* The light is not different from a radio wave or X-rays, except that the oscillation frequency of the electromagnetic disturbance is different.\n",
    "\n",
    "<img src=\"https://upload.wikimedia.org/wikipedia/commons/thumb/f/f1/EM_spectrum.svg/1000px-EM_spectrum.svg.png\" width=\"600\">\n",
    "\n"
   ]
  },
  {
   "cell_type": "markdown",
   "metadata": {},
   "source": [
    "## Intensity of light waves (luminance)\n",
    "* One way to measure the luminous intensity is in candelas (cd). In this way, to measure the amount of light in a certain place, the number of candelas/unit of surface can be indicated.\n",
    "\n",
    "| place | cd/feet$^{2}$ |\n",
    "|-------|---------------|\n",
    "| sunny day  | 9.000 |\n",
    "| cloudy day | 1.000 |\n",
    "| office     | 100   |\n",
    "| full moon  | 0,01  |\n",
    "\n",
    "* The reflectance index measures the amount of light reflected by an object.\n",
    "\n",
    "| object | index of reflectance |\n",
    "|--------|----------------------|\n",
    "| snow            | 0.93 |\n",
    "| silver          | 0.90 |\n",
    "| white paint     | 0.80 |\n",
    "| stainless steel | 0.65 |\n",
    "| black velvet    | 0,01 |"
   ]
  },
  {
   "cell_type": "markdown",
   "metadata": {},
   "source": [
    "## Color of the light\n",
    "* The color of the light depends on the frequency of the luminous wave. We can distinguish between monochrome lights and polychromatic lights. The first ones are composed of a constant frequency wave, while the second ones are a mixture of monochromatic lights.\n",
    "\n",
    "<img src=\"https://upload.wikimedia.org/wikipedia/commons/thumb/d/d9/Linear_visible_spectrum.svg/1000px-Linear_visible_spectrum.svg.png\" width=\"800\">\n",
    "\n",
    "* White light is composed of the sum of all the monochromatic lights of the visible spectrum.\n",
    "\n",
    "<img src=\"https://upload.wikimedia.org/wikipedia/commons/2/28/RGB_illumination.jpg\">"
   ]
  },
  {
   "cell_type": "code",
   "execution_count": null,
   "metadata": {},
   "outputs": [],
   "source": []
  }
 ],
 "metadata": {
  "kernelspec": {
   "display_name": "Python 3",
   "language": "python",
   "name": "python3"
  },
  "language_info": {
   "codemirror_mode": {
    "name": "ipython",
    "version": 3
   },
   "file_extension": ".py",
   "mimetype": "text/x-python",
   "name": "python",
   "nbconvert_exporter": "python",
   "pygments_lexer": "ipython3",
   "version": "3.6.3"
  }
 },
 "nbformat": 4,
 "nbformat_minor": 2
}
